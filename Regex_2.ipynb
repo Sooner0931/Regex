{
 "cells": [
  {
   "cell_type": "raw",
   "id": "13ec597f-6cce-452e-8482-dc95124853b5",
   "metadata": {},
   "source": [
    "https://www.runoob.com/python/python-reg-expressions.html"
   ]
  },
  {
   "cell_type": "code",
   "execution_count": null,
   "id": "fbe491b6-22cf-4d82-93d9-5b8df194f41c",
   "metadata": {},
   "outputs": [],
   "source": []
  },
  {
   "cell_type": "code",
   "execution_count": null,
   "id": "654149ba-e715-4c61-bfae-7e716452b970",
   "metadata": {},
   "outputs": [],
   "source": []
  },
  {
   "cell_type": "code",
   "execution_count": 3,
   "id": "89f36580-2d2c-4010-a50f-f616e38c8161",
   "metadata": {},
   "outputs": [],
   "source": [
    "import re"
   ]
  },
  {
   "cell_type": "markdown",
   "id": "9197b673-f0d9-4bf0-a4ac-98ddb78f1074",
   "metadata": {},
   "source": [
    "#### match()"
   ]
  },
  {
   "cell_type": "code",
   "execution_count": 4,
   "id": "a179e79d-eeff-42d2-afec-4040bcb37d52",
   "metadata": {},
   "outputs": [],
   "source": [
    "url = 'www.baidu.com'"
   ]
  },
  {
   "cell_type": "code",
   "execution_count": 5,
   "id": "e34e4dcd-4d81-4c4d-a9ad-a0c5b303f9e4",
   "metadata": {},
   "outputs": [
    {
     "name": "stdout",
     "output_type": "stream",
     "text": [
      "<re.Match object; span=(0, 3), match='www'>\n"
     ]
    }
   ],
   "source": [
    "print(re.match('www', url))"
   ]
  },
  {
   "cell_type": "code",
   "execution_count": 6,
   "id": "6b6e7058-0521-4d3c-b38b-bee4800bd907",
   "metadata": {},
   "outputs": [
    {
     "name": "stdout",
     "output_type": "stream",
     "text": [
      "None\n"
     ]
    }
   ],
   "source": [
    "print(re.match('com', url))"
   ]
  },
  {
   "cell_type": "code",
   "execution_count": null,
   "id": "9fb2c748-f28f-4107-af05-c36adeb1f0fd",
   "metadata": {},
   "outputs": [],
   "source": []
  },
  {
   "cell_type": "markdown",
   "id": "2dc32b78-31d5-4974-9a3e-d9330fa3640e",
   "metadata": {},
   "source": [
    "#### search()"
   ]
  },
  {
   "cell_type": "code",
   "execution_count": 7,
   "id": "2127508a-0d1f-4a61-b5da-711a006a036f",
   "metadata": {},
   "outputs": [
    {
     "name": "stdout",
     "output_type": "stream",
     "text": [
      "<re.Match object; span=(0, 3), match='www'>\n"
     ]
    }
   ],
   "source": [
    "print(re.search('www', url))"
   ]
  },
  {
   "cell_type": "code",
   "execution_count": 8,
   "id": "87703c98-ac0b-46f7-afea-4c4d8271e397",
   "metadata": {},
   "outputs": [
    {
     "name": "stdout",
     "output_type": "stream",
     "text": [
      "<re.Match object; span=(10, 13), match='com'>\n"
     ]
    }
   ],
   "source": [
    "print(re.search('com', url))"
   ]
  },
  {
   "cell_type": "code",
   "execution_count": null,
   "id": "36a84ed8-adf8-4bc6-97d9-5cc3a274f9aa",
   "metadata": {},
   "outputs": [],
   "source": []
  },
  {
   "cell_type": "markdown",
   "id": "83fa66b6-d01b-4a7a-a226-1709a2497c0d",
   "metadata": {},
   "source": [
    "#### sub()"
   ]
  },
  {
   "cell_type": "code",
   "execution_count": 10,
   "id": "f285a4f3-83a6-4365-864c-92de934ddf99",
   "metadata": {},
   "outputs": [],
   "source": [
    "phone_num = '405-385-4969 # 这是一个电话号码'"
   ]
  },
  {
   "cell_type": "code",
   "execution_count": 14,
   "id": "24f819e6-762e-4cd4-9517-41735e879bf4",
   "metadata": {},
   "outputs": [
    {
     "name": "stdout",
     "output_type": "stream",
     "text": [
      "4053854969\n"
     ]
    }
   ],
   "source": [
    "print(re.sub('\\D', '', phone_num))"
   ]
  },
  {
   "cell_type": "code",
   "execution_count": 23,
   "id": "d7fd3236-c655-4eab-9684-0bd6ae8ecc1e",
   "metadata": {},
   "outputs": [
    {
     "name": "stdout",
     "output_type": "stream",
     "text": [
      "405-385-4969 \n"
     ]
    }
   ],
   "source": [
    "print(re.sub(r'\\#.*', '', phone_num))"
   ]
  },
  {
   "cell_type": "code",
   "execution_count": null,
   "id": "927e7e23-9d4c-48d1-8fff-163ac611e110",
   "metadata": {},
   "outputs": [],
   "source": []
  },
  {
   "cell_type": "markdown",
   "id": "a04227fc-b7a4-45e1-8e10-acc4e8d77b9f",
   "metadata": {},
   "source": [
    "#### complie()"
   ]
  },
  {
   "cell_type": "code",
   "execution_count": 24,
   "id": "fc004339-83e1-4b2e-9e57-c86fe6e2625a",
   "metadata": {},
   "outputs": [],
   "source": [
    "pattern = re.compile(r'\\d+')"
   ]
  },
  {
   "cell_type": "code",
   "execution_count": 26,
   "id": "bb8b362b-1d02-40b5-b043-3e920c91ea82",
   "metadata": {},
   "outputs": [
    {
     "name": "stdout",
     "output_type": "stream",
     "text": [
      "None\n"
     ]
    }
   ],
   "source": [
    "m = pattern.match('one12twothree34four')\n",
    "print(m)"
   ]
  },
  {
   "cell_type": "code",
   "execution_count": 27,
   "id": "0b99ff5b-1574-42aa-85d2-eeaea8eb6400",
   "metadata": {},
   "outputs": [
    {
     "name": "stdout",
     "output_type": "stream",
     "text": [
      "None\n"
     ]
    }
   ],
   "source": [
    "m = pattern.match('one12twothree34four', 2, 10)\n",
    "print(m)"
   ]
  },
  {
   "cell_type": "code",
   "execution_count": 28,
   "id": "abef7a1a-8732-4680-b174-a795a8133f21",
   "metadata": {},
   "outputs": [
    {
     "name": "stdout",
     "output_type": "stream",
     "text": [
      "<re.Match object; span=(3, 5), match='12'>\n"
     ]
    }
   ],
   "source": [
    "m = pattern.match('one12twothree34four', 3, 10)\n",
    "print(m)"
   ]
  },
  {
   "cell_type": "code",
   "execution_count": 29,
   "id": "02beb485-a48c-413f-bf41-39dc0975d8aa",
   "metadata": {},
   "outputs": [],
   "source": [
    "pattern = re.compile(r'([a-z]+) ([A-Z])+', flags = re.I)"
   ]
  },
  {
   "cell_type": "code",
   "execution_count": 33,
   "id": "f2404948-dcfb-4688-8449-b42efa2d031a",
   "metadata": {},
   "outputs": [
    {
     "name": "stdout",
     "output_type": "stream",
     "text": [
      "<re.Match object; span=(0, 11), match='Hello World'>\n",
      "Hello\n",
      "d\n"
     ]
    }
   ],
   "source": [
    "m = pattern.match('Hello World Wide Web')\n",
    "print(m)\n",
    "print(m.group(1))\n",
    "print(m.group(2))"
   ]
  },
  {
   "cell_type": "code",
   "execution_count": null,
   "id": "84b5bc8a-5ba7-4804-bcb9-4f495d1c9770",
   "metadata": {},
   "outputs": [],
   "source": []
  },
  {
   "cell_type": "markdown",
   "id": "17752763-c028-4340-a49d-0c4c012f9fa7",
   "metadata": {},
   "source": [
    "#### findall()"
   ]
  },
  {
   "cell_type": "code",
   "execution_count": 34,
   "id": "f5bccc91-ca67-47db-bb6a-352c0beffaf9",
   "metadata": {},
   "outputs": [],
   "source": [
    "pattern = re.compile(r'\\d+')"
   ]
  },
  {
   "cell_type": "code",
   "execution_count": 35,
   "id": "09ae9ad6-7dff-42bb-9439-a4af357e3217",
   "metadata": {},
   "outputs": [
    {
     "name": "stdout",
     "output_type": "stream",
     "text": [
      "['123', '456']\n"
     ]
    }
   ],
   "source": [
    "print(pattern.findall('world123, 456inout'))"
   ]
  },
  {
   "cell_type": "code",
   "execution_count": null,
   "id": "6c9014fb-6a99-4138-afce-bb97f65106c1",
   "metadata": {},
   "outputs": [],
   "source": []
  },
  {
   "cell_type": "markdown",
   "id": "05725fd0-5d86-474a-805a-a12af41e9b6e",
   "metadata": {},
   "source": [
    "#### finditer()"
   ]
  },
  {
   "cell_type": "code",
   "execution_count": null,
   "id": "b197ecc1-d6bb-4fa0-9d67-e05e1301a40c",
   "metadata": {},
   "outputs": [],
   "source": [
    "pattern = re.compile(r'\\d+')"
   ]
  },
  {
   "cell_type": "code",
   "execution_count": 37,
   "id": "7ff37740-a646-4a10-b460-18fe908598d4",
   "metadata": {},
   "outputs": [
    {
     "name": "stdout",
     "output_type": "stream",
     "text": [
      "123\n",
      "456\n"
     ]
    }
   ],
   "source": [
    "for i in pattern.finditer('world123, 456inout'):\n",
    "    print(i.group())"
   ]
  },
  {
   "cell_type": "code",
   "execution_count": null,
   "id": "ec58b299-ae95-44b6-ab43-eb8bd317d73b",
   "metadata": {},
   "outputs": [],
   "source": []
  },
  {
   "cell_type": "markdown",
   "id": "462ed9dd-3866-465b-9c5a-51d7d7f213df",
   "metadata": {},
   "source": [
    "#### split()"
   ]
  },
  {
   "cell_type": "code",
   "execution_count": 39,
   "id": "e89a96ca-e90a-4107-929a-e1ef242d1d94",
   "metadata": {},
   "outputs": [
    {
     "data": {
      "text/plain": [
       "['abc', 'ABC', 'AbC']"
      ]
     },
     "execution_count": 39,
     "metadata": {},
     "output_type": "execute_result"
    }
   ],
   "source": [
    "re.split('\\W+', 'abc, ABC., AbC')"
   ]
  },
  {
   "cell_type": "code",
   "execution_count": 40,
   "id": "22f6bdee-4c3d-49ed-8c86-03c23e7b7734",
   "metadata": {},
   "outputs": [
    {
     "data": {
      "text/plain": [
       "['abc', ', ', 'ABC', '., ', 'AbC']"
      ]
     },
     "execution_count": 40,
     "metadata": {},
     "output_type": "execute_result"
    }
   ],
   "source": [
    "re.split('(\\W+)', 'abc, ABC., AbC')"
   ]
  },
  {
   "cell_type": "code",
   "execution_count": null,
   "id": "e08b0bac-f5bf-46c3-bbc2-0d5813aad068",
   "metadata": {},
   "outputs": [],
   "source": []
  },
  {
   "cell_type": "code",
   "execution_count": null,
   "id": "a07f8e96-c13a-4996-919c-10880fb4e82c",
   "metadata": {},
   "outputs": [],
   "source": []
  },
  {
   "cell_type": "markdown",
   "id": "6bedc502-8b11-47f8-9ce0-e78cc1bb94eb",
   "metadata": {},
   "source": [
    "#### More Practice"
   ]
  },
  {
   "cell_type": "code",
   "execution_count": 45,
   "id": "95406c1a-23de-4807-bc06-2299e743ba14",
   "metadata": {},
   "outputs": [],
   "source": [
    "line = \"Cats are smarter than dogs\""
   ]
  },
  {
   "cell_type": "code",
   "execution_count": 46,
   "id": "da44744c-7863-48a9-8bbf-d75c89aa86a9",
   "metadata": {},
   "outputs": [
    {
     "name": "stdout",
     "output_type": "stream",
     "text": [
      "<re.Match object; span=(0, 26), match='Cats are smarter than dogs'>\n"
     ]
    }
   ],
   "source": [
    "matchObj = re.match( r'(.*) are (.*?) .*', line, re.M|re.I)\n",
    "print(matchObj)"
   ]
  },
  {
   "cell_type": "code",
   "execution_count": 47,
   "id": "627a1167-9dbe-4799-a2d0-fc839c1937db",
   "metadata": {},
   "outputs": [],
   "source": [
    "s = '1102231990xxxxxxxx'"
   ]
  },
  {
   "cell_type": "code",
   "execution_count": 49,
   "id": "b0926896-24f0-401a-ba01-95247a2902a6",
   "metadata": {},
   "outputs": [],
   "source": [
    "result = re.search('(?P<province>\\d{3})(?P<city>\\d{3})(?P<born_year>\\d{4})',s)"
   ]
  },
  {
   "cell_type": "code",
   "execution_count": 50,
   "id": "a10a7254-06a9-459a-a7ba-9aa0defb3d52",
   "metadata": {},
   "outputs": [
    {
     "name": "stdout",
     "output_type": "stream",
     "text": [
      "{'province': '110', 'city': '223', 'born_year': '1990'}\n"
     ]
    }
   ],
   "source": [
    "print(result.groupdict())"
   ]
  }
 ],
 "metadata": {
  "kernelspec": {
   "display_name": "Python 3 (ipykernel)",
   "language": "python",
   "name": "python3"
  },
  "language_info": {
   "codemirror_mode": {
    "name": "ipython",
    "version": 3
   },
   "file_extension": ".py",
   "mimetype": "text/x-python",
   "name": "python",
   "nbconvert_exporter": "python",
   "pygments_lexer": "ipython3",
   "version": "3.9.7"
  }
 },
 "nbformat": 4,
 "nbformat_minor": 5
}
