{
 "cells": [
  {
   "cell_type": "raw",
   "id": "6980ffed-ef4e-41bb-8dad-3abe997c7164",
   "metadata": {},
   "source": [
    "https://www.bilibili.com/video/BV1zK4y1Z75d?p=9"
   ]
  },
  {
   "cell_type": "code",
   "execution_count": 1,
   "id": "224be410-8055-484b-8d00-3c08612ee36e",
   "metadata": {},
   "outputs": [],
   "source": [
    "import re"
   ]
  },
  {
   "cell_type": "code",
   "execution_count": null,
   "id": "14d11397-f0d9-4fcf-8c9a-e26ae0dc5ce1",
   "metadata": {},
   "outputs": [],
   "source": []
  },
  {
   "cell_type": "code",
   "execution_count": null,
   "id": "c2f222b4-75a1-4aa5-a790-490b436c638a",
   "metadata": {},
   "outputs": [],
   "source": []
  },
  {
   "cell_type": "code",
   "execution_count": null,
   "id": "77d21359-c136-456f-9ffd-3b3dd1b9ca9a",
   "metadata": {},
   "outputs": [],
   "source": []
  },
  {
   "cell_type": "code",
   "execution_count": 2,
   "id": "983b8c25-1402-4be8-a8f9-adb9a19ec5ab",
   "metadata": {},
   "outputs": [],
   "source": [
    "text = '身高:170, 体重:53, 学号:123456, 密码:9527, 123456'"
   ]
  },
  {
   "cell_type": "markdown",
   "id": "4a75f126-fc6c-4842-909c-96ee1768e400",
   "metadata": {
    "tags": []
   },
   "source": [
    "#### 找固定某个fixed字符"
   ]
  },
  {
   "cell_type": "code",
   "execution_count": 3,
   "id": "8d02d525-0d86-4e74-867c-e75a1e1a29b1",
   "metadata": {},
   "outputs": [
    {
     "name": "stdout",
     "output_type": "stream",
     "text": [
      "在里面\n"
     ]
    }
   ],
   "source": [
    "if '123456' in text:\n",
    "    print(\"在里面\")"
   ]
  },
  {
   "cell_type": "code",
   "execution_count": 4,
   "id": "70254d67-d8e1-4b10-9a43-324452e5fc64",
   "metadata": {},
   "outputs": [
    {
     "name": "stdout",
     "output_type": "stream",
     "text": [
      "['123456', '123456']\n"
     ]
    }
   ],
   "source": [
    "print(re.findall('123456', text))"
   ]
  },
  {
   "cell_type": "code",
   "execution_count": null,
   "id": "2823f56b-1e85-4e78-b83e-74f04e4e362a",
   "metadata": {},
   "outputs": [],
   "source": []
  },
  {
   "cell_type": "markdown",
   "id": "58ee9483-62b5-4b8f-b3a4-07af527cabf5",
   "metadata": {},
   "source": [
    "#### 找某个单个字符所有"
   ]
  },
  {
   "cell_type": "code",
   "execution_count": 5,
   "id": "133dd1b3-ecc6-424a-b5a6-d4eae87e1c52",
   "metadata": {},
   "outputs": [
    {
     "name": "stdout",
     "output_type": "stream",
     "text": [
      "['1', '7', '0', '5', '3', '1', '2', '3', '4', '5', '6', '9', '5', '2', '7', '1', '2', '3', '4', '5', '6']\n"
     ]
    }
   ],
   "source": [
    "print(re.findall('\\d', text))"
   ]
  },
  {
   "cell_type": "code",
   "execution_count": 6,
   "id": "39c13b66-b11a-4fde-ba2b-24d50a708419",
   "metadata": {},
   "outputs": [
    {
     "name": "stdout",
     "output_type": "stream",
     "text": [
      "['1', '7', '0', '5', '3', '1', '2', '3', '4', '5', '6', '9', '5', '2', '7', '1', '2', '3', '4', '5', '6']\n"
     ]
    }
   ],
   "source": [
    "print(re.findall(r'\\d', text))"
   ]
  },
  {
   "cell_type": "code",
   "execution_count": 7,
   "id": "d8c9f1b1-3fb7-47e8-8923-462bfc5c9f4a",
   "metadata": {},
   "outputs": [
    {
     "name": "stdout",
     "output_type": "stream",
     "text": [
      "['身', '高', ':', ',', ' ', '体', '重', ':', ',', ' ', '学', '号', ':', ',', ' ', '密', '码', ':', ',', ' ']\n"
     ]
    }
   ],
   "source": [
    "print(re.findall('\\D', text))"
   ]
  },
  {
   "cell_type": "code",
   "execution_count": 8,
   "id": "103fa076-7c4a-4d7f-be0c-3367b1536f62",
   "metadata": {},
   "outputs": [
    {
     "name": "stdout",
     "output_type": "stream",
     "text": [
      "['身', '高', '1', '7', '0', '体', '重', '5', '3', '学', '号', '1', '2', '3', '4', '5', '6', '密', '码', '9', '5', '2', '7', '1', '2', '3', '4', '5', '6']\n"
     ]
    }
   ],
   "source": [
    "print(re.findall('\\w', text))"
   ]
  },
  {
   "cell_type": "code",
   "execution_count": 9,
   "id": "07cdab71-958c-4655-bc14-be447fdc7a88",
   "metadata": {},
   "outputs": [
    {
     "name": "stdout",
     "output_type": "stream",
     "text": [
      "[':', ',', ' ', ':', ',', ' ', ':', ',', ' ', ':', ',', ' ']\n"
     ]
    }
   ],
   "source": [
    "print(re.findall('\\W', text))"
   ]
  },
  {
   "cell_type": "code",
   "execution_count": 10,
   "id": "87fb3e95-2b27-4e68-979a-9f27d2f70df7",
   "metadata": {},
   "outputs": [
    {
     "name": "stdout",
     "output_type": "stream",
     "text": [
      "['1', '5', '3', '1', '2', '3', '4', '5', '5', '2', '1', '2', '3', '4', '5']\n"
     ]
    }
   ],
   "source": [
    "print(re.findall('[1-5]', text))"
   ]
  },
  {
   "cell_type": "code",
   "execution_count": 11,
   "id": "94ff9fcc-a9af-40ca-882d-a79d7444d1f9",
   "metadata": {},
   "outputs": [
    {
     "name": "stdout",
     "output_type": "stream",
     "text": [
      "['高', '重', '号']\n"
     ]
    }
   ],
   "source": [
    "print(re.findall('[高重号]', text))"
   ]
  },
  {
   "cell_type": "code",
   "execution_count": null,
   "id": "8b649bef-a552-481d-83dc-77ac4a1f82fd",
   "metadata": {},
   "outputs": [],
   "source": []
  },
  {
   "cell_type": "markdown",
   "id": "1a650b1b-ce03-4d3c-bce0-87cd0b0526bf",
   "metadata": {},
   "source": [
    "#### 找某一类所有"
   ]
  },
  {
   "cell_type": "code",
   "execution_count": 12,
   "id": "5fb0646b-806e-4246-8a57-d204a1703c52",
   "metadata": {},
   "outputs": [
    {
     "name": "stdout",
     "output_type": "stream",
     "text": [
      "['170', '53', '123456', '9527', '123456']\n"
     ]
    }
   ],
   "source": [
    "print(re.findall('\\d+', text))"
   ]
  },
  {
   "cell_type": "code",
   "execution_count": 13,
   "id": "bd693b5e-346e-4ece-b493-cb2361b91043",
   "metadata": {},
   "outputs": [
    {
     "name": "stdout",
     "output_type": "stream",
     "text": [
      "['', '', '', '170', '', '', '', '', '', '53', '', '', '', '', '', '123456', '', '', '', '', '', '9527', '', '', '123456', '']\n"
     ]
    }
   ],
   "source": [
    "print(re.findall('\\d*', text))"
   ]
  },
  {
   "cell_type": "code",
   "execution_count": 14,
   "id": "91cd4bc6-a50a-43fa-b50c-9ff6f707cf0c",
   "metadata": {},
   "outputs": [
    {
     "name": "stdout",
     "output_type": "stream",
     "text": [
      "['5', '5', '5', '5']\n"
     ]
    }
   ],
   "source": [
    "print(re.findall(r'5+', text))"
   ]
  },
  {
   "cell_type": "code",
   "execution_count": 15,
   "id": "d357d9d9-4879-41d5-bd98-0cfbffd59d5e",
   "metadata": {},
   "outputs": [
    {
     "name": "stdout",
     "output_type": "stream",
     "text": [
      "['', '', '', '1', '7', '0', '', '', '', '', '', '5', '3', '', '', '', '', '', '1', '2', '3', '4', '5', '6', '', '', '', '', '', '9', '5', '2', '7', '', '', '1', '2', '3', '4', '5', '6', '']\n"
     ]
    }
   ],
   "source": [
    "print(re.findall('\\d?', text))"
   ]
  },
  {
   "cell_type": "code",
   "execution_count": 16,
   "id": "a4a4f477-edc6-41fe-a2fd-f0a2cbdaf5f7",
   "metadata": {},
   "outputs": [
    {
     "name": "stdout",
     "output_type": "stream",
     "text": [
      "['170', '123', '456', '952', '123', '456']\n"
     ]
    }
   ],
   "source": [
    "print(re.findall('\\d{3}', text))"
   ]
  },
  {
   "cell_type": "code",
   "execution_count": 17,
   "id": "730f7a0c-f606-4f77-9658-042775310180",
   "metadata": {},
   "outputs": [
    {
     "name": "stdout",
     "output_type": "stream",
     "text": [
      "['170', '53', '1234', '56', '9527', '1234', '56']\n"
     ]
    }
   ],
   "source": [
    "print(re.findall('\\d{1,4}', text))"
   ]
  },
  {
   "cell_type": "code",
   "execution_count": null,
   "id": "12dfc824-4340-4c0f-bba5-25e9010ec3a0",
   "metadata": {},
   "outputs": [],
   "source": []
  },
  {
   "cell_type": "markdown",
   "id": "23613a59-678c-49b8-a69f-c4216136600d",
   "metadata": {},
   "source": [
    "#### 找座机号码"
   ]
  },
  {
   "cell_type": "code",
   "execution_count": 18,
   "id": "de7f36ab-8365-4079-85b6-ee10920a00d6",
   "metadata": {},
   "outputs": [],
   "source": [
    "text = '我的电话号是13198908760, 我还有一个电话号是028-1589878, 我最爱的数字组合是0123456789, 我的座机号码是0931-88789878-3245'"
   ]
  },
  {
   "cell_type": "code",
   "execution_count": 19,
   "id": "2b23ea9b-6223-4861-88d5-945912d96289",
   "metadata": {},
   "outputs": [
    {
     "data": {
      "text/plain": [
       "['028-1589878', '0931-88789878']"
      ]
     },
     "execution_count": 19,
     "metadata": {},
     "output_type": "execute_result"
    }
   ],
   "source": [
    "re.findall(r'\\d{3,4}-\\d{7,8}', text)"
   ]
  },
  {
   "cell_type": "code",
   "execution_count": 20,
   "id": "99ac41a3-85e9-4ab7-a5cd-38919facf7dc",
   "metadata": {},
   "outputs": [
    {
     "data": {
      "text/plain": [
       "['0931-88789878-3245']"
      ]
     },
     "execution_count": 20,
     "metadata": {},
     "output_type": "execute_result"
    }
   ],
   "source": [
    "re.findall(r'\\d{3,4}-\\d{7,8}-\\d{4}?', text)"
   ]
  },
  {
   "cell_type": "code",
   "execution_count": null,
   "id": "57094f29-a04d-41f7-882e-fe64edab07da",
   "metadata": {},
   "outputs": [],
   "source": []
  },
  {
   "cell_type": "markdown",
   "id": "1cd06dc5-c1ef-4c65-a452-130d191d9229",
   "metadata": {},
   "source": [
    "#### 找手机号码"
   ]
  },
  {
   "cell_type": "code",
   "execution_count": 21,
   "id": "4e6e6b5a-1d37-4f54-ba86-d3d3ca66a791",
   "metadata": {},
   "outputs": [
    {
     "data": {
      "text/plain": [
       "['13198908760']"
      ]
     },
     "execution_count": 21,
     "metadata": {},
     "output_type": "execute_result"
    }
   ],
   "source": [
    "re.findall(r'1\\d{10}', text)"
   ]
  },
  {
   "cell_type": "code",
   "execution_count": 22,
   "id": "9075ec7a-ad8d-4082-8ec9-c1f817720edc",
   "metadata": {},
   "outputs": [
    {
     "data": {
      "text/plain": [
       "['13198908760', '028-1589878', '0931-88789878']"
      ]
     },
     "execution_count": 22,
     "metadata": {},
     "output_type": "execute_result"
    }
   ],
   "source": [
    "re.findall(r'\\d{3,4}-\\d{7,8}|1\\d{10}', text)"
   ]
  },
  {
   "cell_type": "code",
   "execution_count": null,
   "id": "01186894-e81b-4586-98f1-8802af4d82cf",
   "metadata": {},
   "outputs": [],
   "source": []
  },
  {
   "cell_type": "markdown",
   "id": "9973202c-fb9b-45a6-a231-0c2b0b995f2e",
   "metadata": {
    "tags": []
   },
   "source": [
    "#### 限定位置"
   ]
  },
  {
   "cell_type": "code",
   "execution_count": 23,
   "id": "541bb734-5f7c-41b5-be25-b047ffc2a232",
   "metadata": {},
   "outputs": [
    {
     "data": {
      "text/plain": [
       "[]"
      ]
     },
     "execution_count": 23,
     "metadata": {},
     "output_type": "execute_result"
    }
   ],
   "source": [
    "re.findall(r'^1\\d{10}', text)"
   ]
  },
  {
   "cell_type": "code",
   "execution_count": 24,
   "id": "8cedcc0c-6cac-40d4-be2d-ca972b7fea01",
   "metadata": {},
   "outputs": [],
   "source": [
    "text_2 = '13198908760, 我还有一个电话号是028-1589878, 我最爱的数字组合是0123456789, 我的座机号码是0931-88789878-3245'"
   ]
  },
  {
   "cell_type": "code",
   "execution_count": 25,
   "id": "b622101c-ede4-4f14-a302-4ed696879d0d",
   "metadata": {},
   "outputs": [
    {
     "data": {
      "text/plain": [
       "['13198908760']"
      ]
     },
     "execution_count": 25,
     "metadata": {},
     "output_type": "execute_result"
    }
   ],
   "source": [
    "re.findall(r'^1\\d{10}', text_2)"
   ]
  },
  {
   "cell_type": "code",
   "execution_count": 26,
   "id": "4d7f0012-9d0c-446b-a16e-5283a1345a7a",
   "metadata": {},
   "outputs": [],
   "source": [
    "text_3 = '13198908760, 0931-88789878-3245, 我还有一个电话号是028-1589878, 我最爱的数字组合是0123456789, 我的座机号码是0898-88789878-3245'"
   ]
  },
  {
   "cell_type": "code",
   "execution_count": 27,
   "id": "8ac2ce39-dc66-4849-ae55-0c82f9289593",
   "metadata": {},
   "outputs": [
    {
     "data": {
      "text/plain": [
       "['0898-88789878-3245']"
      ]
     },
     "execution_count": 27,
     "metadata": {},
     "output_type": "execute_result"
    }
   ],
   "source": [
    "re.findall(r'\\d{3,4}-\\d{7,8}-\\d{4}?$', text_3)"
   ]
  },
  {
   "cell_type": "code",
   "execution_count": null,
   "id": "bea978c8-c172-4473-a335-727ba3473616",
   "metadata": {},
   "outputs": [],
   "source": []
  },
  {
   "cell_type": "markdown",
   "id": "81a0b8a8-7b93-47b9-83e6-967cafdfedb5",
   "metadata": {},
   "source": [
    "#### 内部约束"
   ]
  },
  {
   "cell_type": "code",
   "execution_count": 28,
   "id": "0af0995e-ac82-4bf7-951c-4570f54e16db",
   "metadata": {},
   "outputs": [],
   "source": [
    "text = 'barbar, carcar, harhel'"
   ]
  },
  {
   "cell_type": "code",
   "execution_count": 29,
   "id": "d8897cb0-99be-41da-8d4a-347ae4cd1bb5",
   "metadata": {},
   "outputs": [
    {
     "data": {
      "text/plain": [
       "[('bar', 'bar'), ('car', 'car')]"
      ]
     },
     "execution_count": 29,
     "metadata": {},
     "output_type": "execute_result"
    }
   ],
   "source": [
    "re.findall(r'(\\w{3})(\\1)',text)       # (\\w{3})(\\1) 是说第一个位置定义的模式再重复一遍"
   ]
  },
  {
   "cell_type": "code",
   "execution_count": 30,
   "id": "89b64cf9-4b44-4c67-b5eb-132d3f6d31cb",
   "metadata": {},
   "outputs": [
    {
     "name": "stdout",
     "output_type": "stream",
     "text": [
      "['b', 'a', 'r', 'b', 'a', 'r', 'c', 'a', 'r', 'c', 'a', 'r', 'h', 'a', 'r', 'h', 'e', 'l']\n"
     ]
    }
   ],
   "source": [
    "print(re.findall('[a-zA-Z]',text)) "
   ]
  },
  {
   "cell_type": "code",
   "execution_count": null,
   "id": "857c5ba4-4750-4fce-89cf-81db4e6ec70a",
   "metadata": {},
   "outputs": [],
   "source": []
  },
  {
   "cell_type": "markdown",
   "id": "6102045c-bef8-42db-819f-32d99322899f",
   "metadata": {},
   "source": [
    "#### re写作的步骤与语法"
   ]
  },
  {
   "cell_type": "code",
   "execution_count": 31,
   "id": "529ff4ac-62f8-4125-bd9c-8d29ef6b59a1",
   "metadata": {},
   "outputs": [],
   "source": [
    "text = 'abcdddabceeeabcfffabcgggabchhhabc'"
   ]
  },
  {
   "cell_type": "code",
   "execution_count": 32,
   "id": "672328d8-7f14-4aac-a9a8-5e956ddb6dfd",
   "metadata": {},
   "outputs": [
    {
     "data": {
      "text/plain": [
       "['abc', 'abc', 'abc', 'abc', 'abc', 'abc']"
      ]
     },
     "execution_count": 32,
     "metadata": {},
     "output_type": "execute_result"
    }
   ],
   "source": [
    "re.findall('abc',text)"
   ]
  },
  {
   "cell_type": "code",
   "execution_count": 33,
   "id": "86910054-bfd3-4c6e-990b-fd93e4eb5105",
   "metadata": {},
   "outputs": [
    {
     "data": {
      "text/plain": [
       "['abc', 'abc', 'abc', 'abc', 'abc', 'abc']"
      ]
     },
     "execution_count": 33,
     "metadata": {},
     "output_type": "execute_result"
    }
   ],
   "source": [
    "re.findall('abc{1}',text)"
   ]
  },
  {
   "cell_type": "code",
   "execution_count": 34,
   "id": "f974beb6-9875-4588-bc47-e0cf95988100",
   "metadata": {},
   "outputs": [
    {
     "data": {
      "text/plain": [
       "[]"
      ]
     },
     "execution_count": 34,
     "metadata": {},
     "output_type": "execute_result"
    }
   ],
   "source": [
    "re.findall('abc{3}',text)"
   ]
  },
  {
   "cell_type": "code",
   "execution_count": 35,
   "id": "e4e32297-1450-4fc9-8a82-a97a9563c13d",
   "metadata": {},
   "outputs": [],
   "source": [
    "text_2 = 'abcdddabccceeeabcfffabcgggabchhhabc'"
   ]
  },
  {
   "cell_type": "code",
   "execution_count": 36,
   "id": "f7c125c2-df7c-4d3e-9e12-63b396a61e1f",
   "metadata": {},
   "outputs": [
    {
     "data": {
      "text/plain": [
       "['abccc']"
      ]
     },
     "execution_count": 36,
     "metadata": {},
     "output_type": "execute_result"
    }
   ],
   "source": [
    "re.findall('abc{3}',text_2)"
   ]
  },
  {
   "cell_type": "code",
   "execution_count": 37,
   "id": "bf2f3d29-9624-4693-9b59-6144cc211892",
   "metadata": {},
   "outputs": [
    {
     "data": {
      "text/plain": [
       "['abc', 'abc', 'abc', 'abc', 'abc', 'abc']"
      ]
     },
     "execution_count": 37,
     "metadata": {},
     "output_type": "execute_result"
    }
   ],
   "source": [
    "re.findall('(abc){1}',text)"
   ]
  },
  {
   "cell_type": "code",
   "execution_count": 38,
   "id": "2a705002-1d6c-45a6-9f13-a7f7097e148d",
   "metadata": {},
   "outputs": [
    {
     "data": {
      "text/plain": [
       "[]"
      ]
     },
     "execution_count": 38,
     "metadata": {},
     "output_type": "execute_result"
    }
   ],
   "source": [
    "re.findall('(abc){2}',text)"
   ]
  },
  {
   "cell_type": "code",
   "execution_count": 39,
   "id": "fbe48932-51ea-4819-a88d-20dcbd234ce8",
   "metadata": {},
   "outputs": [],
   "source": [
    "text = '身高:170, 体重:53, 学号:123456, 密码:9527'"
   ]
  },
  {
   "cell_type": "code",
   "execution_count": 40,
   "id": "5c38766c-12c0-42c9-aa7b-da6fbc0affa5",
   "metadata": {},
   "outputs": [
    {
     "data": {
      "text/plain": [
       "[]"
      ]
     },
     "execution_count": 40,
     "metadata": {},
     "output_type": "execute_result"
    }
   ],
   "source": [
    "re.findall('(?<=密码)\\d+', text)       # 限定位置  ?<="
   ]
  },
  {
   "cell_type": "code",
   "execution_count": 41,
   "id": "bd619cfa-3240-4acf-bcc0-6b9733d08356",
   "metadata": {},
   "outputs": [
    {
     "data": {
      "text/plain": [
       "['9527']"
      ]
     },
     "execution_count": 41,
     "metadata": {},
     "output_type": "execute_result"
    }
   ],
   "source": [
    "re.findall('(?<=密码.)\\d+', text) "
   ]
  },
  {
   "cell_type": "code",
   "execution_count": null,
   "id": "1ad21b85-47f0-4e1a-9cc6-a136b45a44ad",
   "metadata": {},
   "outputs": [],
   "source": []
  },
  {
   "cell_type": "code",
   "execution_count": 42,
   "id": "ce89032b-2fc6-4202-951b-9cc78be23e61",
   "metadata": {},
   "outputs": [],
   "source": [
    "text = 'Abc, abc, ABC, aBC, aBc'"
   ]
  },
  {
   "cell_type": "code",
   "execution_count": 43,
   "id": "f990e1ca-7f4f-41f4-add1-9eb24bf27432",
   "metadata": {},
   "outputs": [
    {
     "data": {
      "text/plain": [
       "['abc']"
      ]
     },
     "execution_count": 43,
     "metadata": {},
     "output_type": "execute_result"
    }
   ],
   "source": [
    "re.findall('abc', text)"
   ]
  },
  {
   "cell_type": "code",
   "execution_count": 44,
   "id": "2d9ba13b-71d1-48ab-b792-18ccf3251f3e",
   "metadata": {},
   "outputs": [
    {
     "data": {
      "text/plain": [
       "['Abc', 'abc', 'ABC', 'aBC', 'aBc']"
      ]
     },
     "execution_count": 44,
     "metadata": {},
     "output_type": "execute_result"
    }
   ],
   "source": [
    "re.findall('abc', text, flags = re.I)"
   ]
  },
  {
   "cell_type": "code",
   "execution_count": null,
   "id": "e35e8193-d4fe-487c-8b04-0e0c3aaf852c",
   "metadata": {},
   "outputs": [],
   "source": []
  },
  {
   "cell_type": "markdown",
   "id": "20bcfa3c-5586-4b4c-a832-c8dc38cda07c",
   "metadata": {},
   "source": [
    "#### search()"
   ]
  },
  {
   "cell_type": "code",
   "execution_count": 45,
   "id": "a4f33c27-ea2e-40ac-9c86-e86f266a909e",
   "metadata": {},
   "outputs": [
    {
     "data": {
      "text/plain": [
       "<re.Match object; span=(5, 8), match='abc'>"
      ]
     },
     "execution_count": 45,
     "metadata": {},
     "output_type": "execute_result"
    }
   ],
   "source": [
    "re.search('abc', text)"
   ]
  },
  {
   "cell_type": "code",
   "execution_count": 46,
   "id": "9a754d39-ccfb-4786-ae2a-dfcfdfb00fdf",
   "metadata": {},
   "outputs": [],
   "source": [
    "m = re.search('abc', text)"
   ]
  },
  {
   "cell_type": "code",
   "execution_count": 47,
   "id": "e8b470b5-3489-4b0c-b5fa-c66d02dc4b55",
   "metadata": {},
   "outputs": [
    {
     "name": "stdout",
     "output_type": "stream",
     "text": [
      "abc\n"
     ]
    }
   ],
   "source": [
    "print(m.group())"
   ]
  },
  {
   "cell_type": "code",
   "execution_count": 48,
   "id": "334cfe11-2e71-49ea-97ba-a7ec10a58ce8",
   "metadata": {},
   "outputs": [],
   "source": [
    "text = '13198908760, 0931-88789878-3245, 我还有一个电话号是028-1589878, 我最爱的数字组合是0123456789, 我的座机号码是0898-88789878-3245'"
   ]
  },
  {
   "cell_type": "code",
   "execution_count": 49,
   "id": "4111c21a-035a-4e3c-b7ce-24e8744dbaeb",
   "metadata": {},
   "outputs": [],
   "source": [
    "m = re.search(r'\\d{3,4}-\\d{7,8}', text)"
   ]
  },
  {
   "cell_type": "code",
   "execution_count": 50,
   "id": "07b79058-a92e-4b14-b538-e927c47112c1",
   "metadata": {},
   "outputs": [
    {
     "name": "stdout",
     "output_type": "stream",
     "text": [
      "0931-88789878\n"
     ]
    }
   ],
   "source": [
    "print(m.group())"
   ]
  },
  {
   "cell_type": "code",
   "execution_count": 51,
   "id": "2c93387c-9826-406e-97b3-bacd7e73023b",
   "metadata": {},
   "outputs": [],
   "source": [
    "m_2 = re.search(r'(\\d{3,4})-(\\d{7,8})', text)"
   ]
  },
  {
   "cell_type": "code",
   "execution_count": 52,
   "id": "7d237633-703c-4be9-8b34-6d43ca027d16",
   "metadata": {},
   "outputs": [
    {
     "name": "stdout",
     "output_type": "stream",
     "text": [
      "0931-88789878\n"
     ]
    }
   ],
   "source": [
    "print(m_2.group())"
   ]
  },
  {
   "cell_type": "code",
   "execution_count": 53,
   "id": "66e370f1-d033-4fed-937e-5432438bb105",
   "metadata": {},
   "outputs": [
    {
     "name": "stdout",
     "output_type": "stream",
     "text": [
      "0931\n"
     ]
    }
   ],
   "source": [
    "print(m_2.group(1))"
   ]
  },
  {
   "cell_type": "code",
   "execution_count": 54,
   "id": "648d4a88-12ad-4b14-ae2f-498e39ac1495",
   "metadata": {},
   "outputs": [
    {
     "name": "stdout",
     "output_type": "stream",
     "text": [
      "0931-88789878\n"
     ]
    }
   ],
   "source": [
    "print(m_2.group(0))"
   ]
  },
  {
   "cell_type": "code",
   "execution_count": 55,
   "id": "6ff5d81e-a3a1-4433-b47e-56e588ef282e",
   "metadata": {},
   "outputs": [
    {
     "name": "stdout",
     "output_type": "stream",
     "text": [
      "88789878\n"
     ]
    }
   ],
   "source": [
    "print(m_2.group(2))"
   ]
  },
  {
   "cell_type": "code",
   "execution_count": 56,
   "id": "efea8d8b-52ef-4e0e-855e-e35af3092f15",
   "metadata": {},
   "outputs": [],
   "source": [
    "text = 'aBc, Abc, ABC'"
   ]
  },
  {
   "cell_type": "code",
   "execution_count": 57,
   "id": "a36e3adb-d802-458d-a0a4-b63093f41f87",
   "metadata": {},
   "outputs": [],
   "source": [
    "m = re.search('abc', text, flags = re.I)"
   ]
  },
  {
   "cell_type": "code",
   "execution_count": 58,
   "id": "fde68614-9af3-4c74-af7e-3c566efe213d",
   "metadata": {},
   "outputs": [
    {
     "name": "stdout",
     "output_type": "stream",
     "text": [
      "<re.Match object; span=(0, 3), match='aBc'>\n"
     ]
    }
   ],
   "source": [
    "print(m)"
   ]
  },
  {
   "cell_type": "code",
   "execution_count": null,
   "id": "06279c19-6736-40db-b684-97b6ee21ed2b",
   "metadata": {},
   "outputs": [],
   "source": []
  },
  {
   "cell_type": "markdown",
   "id": "e276e714-d7c1-4ae0-bbeb-96816fa9c015",
   "metadata": {},
   "source": [
    "#### match()\n",
    "与search类似，区别在于只匹配最开头"
   ]
  },
  {
   "cell_type": "code",
   "execution_count": 59,
   "id": "c220288f-779b-4790-b9c5-ded4f892d9ae",
   "metadata": {},
   "outputs": [],
   "source": [
    "m = re.match('abc', text, flags = re.I)"
   ]
  },
  {
   "cell_type": "code",
   "execution_count": 60,
   "id": "db42b0f4-c052-4b5f-9b48-629f158de1ca",
   "metadata": {},
   "outputs": [
    {
     "name": "stdout",
     "output_type": "stream",
     "text": [
      "<re.Match object; span=(0, 3), match='aBc'>\n"
     ]
    }
   ],
   "source": [
    "print(m)"
   ]
  },
  {
   "cell_type": "code",
   "execution_count": 61,
   "id": "90ee438e-1fc4-459e-8f82-aecae861595f",
   "metadata": {},
   "outputs": [],
   "source": [
    "text_2 = 'xaBc, Abc, ABC'"
   ]
  },
  {
   "cell_type": "code",
   "execution_count": 62,
   "id": "f0313e65-1cba-4498-92ab-fc204c5864d6",
   "metadata": {},
   "outputs": [],
   "source": [
    "m = re.match('abc', text_2, flags = re.I)"
   ]
  },
  {
   "cell_type": "code",
   "execution_count": 63,
   "id": "4e17affb-8213-4ca1-a166-562f0e30a1c1",
   "metadata": {},
   "outputs": [
    {
     "name": "stdout",
     "output_type": "stream",
     "text": [
      "None\n"
     ]
    }
   ],
   "source": [
    "print(m)"
   ]
  },
  {
   "cell_type": "code",
   "execution_count": null,
   "id": "d9d10c09-c73e-48c5-89f7-a8783d9bd3d1",
   "metadata": {},
   "outputs": [],
   "source": []
  },
  {
   "cell_type": "markdown",
   "id": "cb2263ea-e732-4ec6-8cdb-a45558a9e7b2",
   "metadata": {},
   "source": [
    "#### findall()"
   ]
  },
  {
   "cell_type": "code",
   "execution_count": 64,
   "id": "f366f376-c1be-4984-94cc-8dca5c7f8011",
   "metadata": {},
   "outputs": [],
   "source": [
    "text = '13198908760, 0931-88789878-3245, 我还有一个电话号是028-1589878, 我最爱的数字组合是0123456789, 我的座机号码是0898-88789878-5897'"
   ]
  },
  {
   "cell_type": "code",
   "execution_count": 65,
   "id": "861c62d6-8357-4bdd-94cb-c5eeae99487f",
   "metadata": {},
   "outputs": [],
   "source": [
    "m = re.findall(r'(\\d{3,4})-(\\d{7,8})', text)"
   ]
  },
  {
   "cell_type": "code",
   "execution_count": 66,
   "id": "a7064da7-3d4b-4fdb-968d-8737f09e1574",
   "metadata": {},
   "outputs": [
    {
     "name": "stdout",
     "output_type": "stream",
     "text": [
      "[('0931', '88789878'), ('028', '1589878'), ('0898', '88789878')]\n"
     ]
    }
   ],
   "source": [
    "print(m)"
   ]
  },
  {
   "cell_type": "code",
   "execution_count": null,
   "id": "6d23c1ba-67fa-43eb-ab56-1b5a6e8d1c43",
   "metadata": {},
   "outputs": [],
   "source": []
  },
  {
   "cell_type": "markdown",
   "id": "3ece7d6b-5d63-4145-9cfb-f1163cb61b2a",
   "metadata": {},
   "source": [
    "#### finditer()"
   ]
  },
  {
   "cell_type": "code",
   "execution_count": 67,
   "id": "529df9f2-28fc-4831-bdae-73eafd108e5a",
   "metadata": {},
   "outputs": [],
   "source": [
    "m = re.finditer(r'(\\d{3,4})-(\\d{7,8})', text)"
   ]
  },
  {
   "cell_type": "code",
   "execution_count": 68,
   "id": "46cc8772-c539-4c12-9ba9-73969b933032",
   "metadata": {},
   "outputs": [
    {
     "name": "stdout",
     "output_type": "stream",
     "text": [
      "<callable_iterator object at 0x0000020D1237C160>\n"
     ]
    }
   ],
   "source": [
    "print(m)"
   ]
  },
  {
   "cell_type": "code",
   "execution_count": 69,
   "id": "cd21f64d-5956-46bb-88bf-ea78d97377da",
   "metadata": {},
   "outputs": [
    {
     "name": "stdout",
     "output_type": "stream",
     "text": [
      "<re.Match object; span=(13, 26), match='0931-88789878'>\n",
      "<re.Match object; span=(42, 53), match='028-1589878'>\n",
      "<re.Match object; span=(83, 96), match='0898-88789878'>\n"
     ]
    }
   ],
   "source": [
    "for i in m:\n",
    "    print(i)"
   ]
  },
  {
   "cell_type": "code",
   "execution_count": null,
   "id": "5e65d860-f034-4814-a06d-59a7a3727555",
   "metadata": {},
   "outputs": [],
   "source": []
  },
  {
   "cell_type": "markdown",
   "id": "b2e4f41a-5af6-4d8b-a1e0-f3065224f185",
   "metadata": {},
   "source": [
    "#### sub() & subn()"
   ]
  },
  {
   "cell_type": "code",
   "execution_count": 70,
   "id": "7a5d0648-76a9-4665-8d21-17cb993cd0ec",
   "metadata": {},
   "outputs": [],
   "source": [
    "text = 'aBc, ghsfhshfh, Abc, ABC'"
   ]
  },
  {
   "cell_type": "code",
   "execution_count": 71,
   "id": "aa559568-ef23-4a84-88e9-2415a9a67316",
   "metadata": {},
   "outputs": [],
   "source": [
    "m = re.sub('abc', '***', text, flags = re.I)"
   ]
  },
  {
   "cell_type": "code",
   "execution_count": 72,
   "id": "a0ef4e1d-7612-48fe-8906-a9429de2fb52",
   "metadata": {},
   "outputs": [
    {
     "name": "stdout",
     "output_type": "stream",
     "text": [
      "***, ghsfhshfh, ***, ***\n"
     ]
    }
   ],
   "source": [
    "print(m)"
   ]
  },
  {
   "cell_type": "code",
   "execution_count": 73,
   "id": "78aebfd6-6cb3-4d85-8e58-653d377e7647",
   "metadata": {},
   "outputs": [],
   "source": [
    "m_2 = re.subn('abc', '***', text, flags = re.I)"
   ]
  },
  {
   "cell_type": "code",
   "execution_count": 74,
   "id": "4b896511-92f5-4c31-b013-d1bb02bc3fc4",
   "metadata": {},
   "outputs": [
    {
     "name": "stdout",
     "output_type": "stream",
     "text": [
      "('***, ghsfhshfh, ***, ***', 3)\n"
     ]
    }
   ],
   "source": [
    "print(m_2)"
   ]
  },
  {
   "cell_type": "code",
   "execution_count": null,
   "id": "9cee7d69-7c7d-454c-bdb3-f46352beb767",
   "metadata": {},
   "outputs": [],
   "source": []
  },
  {
   "cell_type": "markdown",
   "id": "e09f2451-bdf7-45b5-a241-e05ebd5b6e6d",
   "metadata": {},
   "source": [
    "#### split()"
   ]
  },
  {
   "cell_type": "code",
   "execution_count": 75,
   "id": "5c5d4a11-1503-46ac-aca6-95b8c03aa002",
   "metadata": {},
   "outputs": [
    {
     "data": {
      "text/plain": [
       "['foo', 'bar', 'baz', 'quz']"
      ]
     },
     "execution_count": 75,
     "metadata": {},
     "output_type": "execute_result"
    }
   ],
   "source": [
    "re.split('\\s*[,;/]\\s*', 'foo,bar   ;   baz / quz')"
   ]
  },
  {
   "cell_type": "code",
   "execution_count": null,
   "id": "689ca4fa-9de0-4c6f-93d3-2f564681d383",
   "metadata": {},
   "outputs": [],
   "source": []
  },
  {
   "cell_type": "markdown",
   "id": "1bf58f06-698a-4ea1-a8fe-a61685d0ab2a",
   "metadata": {},
   "source": [
    "#### compile()"
   ]
  },
  {
   "cell_type": "code",
   "execution_count": null,
   "id": "c04c9e94-9d6e-4d99-a20b-d9709a2c854c",
   "metadata": {},
   "outputs": [],
   "source": []
  },
  {
   "cell_type": "code",
   "execution_count": null,
   "id": "c0a8ee2d-2c3b-4a52-998f-9fdf5a455b1c",
   "metadata": {},
   "outputs": [],
   "source": []
  },
  {
   "cell_type": "markdown",
   "id": "1612ded3-ba1a-4d5b-b363-bfe7a962f197",
   "metadata": {},
   "source": [
    "#### More Practice"
   ]
  },
  {
   "cell_type": "raw",
   "id": "0451bb7d-0daf-4a32-8a68-e0feb18b25cd",
   "metadata": {},
   "source": [
    "email:"
   ]
  },
  {
   "cell_type": "raw",
   "id": "d7f55993-d3c4-4483-a883-8c80f24df4c5",
   "metadata": {},
   "source": [
    "\\w+([._+-]\\w+)*@\\w+([._+-]\\w+)*.w+([._+-]\\w+)*"
   ]
  },
  {
   "cell_type": "raw",
   "id": "b57c6256-429f-4d78-af8c-7791f394c46d",
   "metadata": {},
   "source": [
    "ID:"
   ]
  },
  {
   "cell_type": "raw",
   "id": "2b5bb396-bb9b-4493-be56-0f0f758ec4bf",
   "metadata": {},
   "source": [
    "\\d{15}|\\d{18}"
   ]
  }
 ],
 "metadata": {
  "kernelspec": {
   "display_name": "Python 3 (ipykernel)",
   "language": "python",
   "name": "python3"
  },
  "language_info": {
   "codemirror_mode": {
    "name": "ipython",
    "version": 3
   },
   "file_extension": ".py",
   "mimetype": "text/x-python",
   "name": "python",
   "nbconvert_exporter": "python",
   "pygments_lexer": "ipython3",
   "version": "3.9.7"
  }
 },
 "nbformat": 4,
 "nbformat_minor": 5
}
